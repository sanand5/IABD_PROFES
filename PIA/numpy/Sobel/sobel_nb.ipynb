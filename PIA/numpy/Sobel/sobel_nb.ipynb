{
 "cells": [
  {
   "cell_type": "code",
   "execution_count": null,
   "metadata": {},
   "outputs": [],
   "source": [
    "import PIL \n",
    "from PIL import Image\n",
    "import numpy as np\n",
    "import matplotlib\n",
    "import os"
   ]
  },
  {
   "cell_type": "code",
   "execution_count": null,
   "metadata": {},
   "outputs": [],
   "source": [
    "carpeta = os.path.join(os.getcwd(), 'img')\n",
    "# carpeta = os.path.join(os.path.dirname(__file__), 'img')"
   ]
  },
  {
   "cell_type": "code",
   "execution_count": null,
   "metadata": {},
   "outputs": [],
   "source": [
    "img_file = os.path.join(carpeta, 'img.jpg')\n",
    "img_original_Image = Image.open(img_file)\n",
    "alt, ample = np.divide(img_original_Image.size, 2)\n",
    "img_gris_Image = img_original_Image.resize((alt.astype(int), ample.astype(int))).convert('L')\n",
    "img_gris_array = np.array(img_gris_Image)"
   ]
  },
  {
   "cell_type": "code",
   "execution_count": null,
   "metadata": {},
   "outputs": [],
   "source": [
    "Gx = [[-1, 0, 1], [-2, 0, 2], [-1, 0, 1]]\n",
    "Gy = [[-1, -2, -1], [0, 0, 0], [1, 2, 1]]"
   ]
  },
  {
   "cell_type": "code",
   "execution_count": null,
   "metadata": {},
   "outputs": [],
   "source": [
    "m, w,k = 0.2, 3, 1\n",
    "distancia_de_pixel_finestra = w//2"
   ]
  },
  {
   "cell_type": "code",
   "execution_count": null,
   "metadata": {},
   "outputs": [],
   "source": [
    "def traure_finestra(matriu, posicio_x, posicio_y):\n",
    "    finestra = matriu[posicio_x-1:posicio_x+2, posicio_y-1:posicio_y+2]\n",
    "    return finestra"
   ]
  },
  {
   "cell_type": "code",
   "execution_count": null,
   "metadata": {},
   "outputs": [],
   "source": [
    "alt = int(alt)\n",
    "ample = int(ample)\n",
    "edges = np.zeros((alt, ample))\n",
    "\n",
    "for i in range(1, alt-1):\n",
    "    for j in range(1, ample-1):\n",
    "        bloc = np.array(traure_finestra(img_gris_array, i, j))\n",
    "        Ix = np.sum(bloc * Gx)\n",
    "        Iy = np.sum(bloc * Gy)\n",
    "        edges[i, j] = np.sqrt(Ix**2 + Iy**2)\n",
    "\n",
    "edges_norm = np.uint8(255 * (edges / np.max(edges)))\n"
   ]
  },
  {
   "cell_type": "code",
   "execution_count": null,
   "metadata": {},
   "outputs": [],
   "source": [
    "Image.fromarray(edges_norm).save(os.path.join(carpeta, 'img_sobel.png'))"
   ]
  }
 ],
 "metadata": {
  "kernelspec": {
   "display_name": "pia_entorn",
   "language": "python",
   "name": "python3"
  },
  "language_info": {
   "codemirror_mode": {
    "name": "ipython",
    "version": 3
   },
   "file_extension": ".py",
   "mimetype": "text/x-python",
   "name": "python",
   "nbconvert_exporter": "python",
   "pygments_lexer": "ipython3",
   "version": "3.12.3"
  }
 },
 "nbformat": 4,
 "nbformat_minor": 2
}
