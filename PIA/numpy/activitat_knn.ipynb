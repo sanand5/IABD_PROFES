{
 "cells": [
  {
   "cell_type": "code",
   "execution_count": 30,
   "metadata": {},
   "outputs": [],
   "source": [
    "import numpy as np\n",
    "import math as mt"
   ]
  },
  {
   "cell_type": "code",
   "execution_count": 31,
   "metadata": {},
   "outputs": [
    {
     "data": {
      "text/plain": [
       "array([[6, 3],\n",
       "       [7, 4],\n",
       "       [6, 9],\n",
       "       [2, 6],\n",
       "       [7, 4],\n",
       "       [3, 7],\n",
       "       [7, 2],\n",
       "       [5, 4],\n",
       "       [1, 7],\n",
       "       [5, 1]])"
      ]
     },
     "execution_count": 31,
     "metadata": {},
     "output_type": "execute_result"
    }
   ],
   "source": [
    "# Establir la semente per a la generació de números aleatoris\n",
    "np.random.seed(42)\n",
    "\n",
    "# Generar 10 punts aleatoris dins del pla (0,0) a (10,10)\n",
    "punts = np.random.randint(0, 10, (10, 2))\n",
    "punts"
   ]
  },
  {
   "cell_type": "code",
   "execution_count": 32,
   "metadata": {},
   "outputs": [
    {
     "data": {
      "image/png": "[encoded data removed]",
      "text/plain": [
       "<Figure size 640x480 with 1 Axes>"
      ]
     },
     "metadata": {},
     "output_type": "display_data"
    }
   ],
   "source": [
    "import matplotlib.pyplot as plt\n",
    "\n",
    "# Creem el gràfic de dispersió\n",
    "x_vals = [x for x, y in punts]\n",
    "y_vals = [y for x, y in punts]\n",
    "\n",
    "plt.scatter(x_vals, y_vals)\n",
    "\n",
    "# Afegim les etiquetes a cada punt\n",
    "for i, (x, y) in enumerate(punts):\n",
    "    plt.text(x, y, f\"{i}\", fontsize=12, ha='right')\n",
    "\n",
    "# Mostrar el gràfic\n",
    "plt.grid(True)\n",
    "plt.show()\n"
   ]
  },
  {
   "cell_type": "code",
   "execution_count": 33,
   "metadata": {},
   "outputs": [
    {
     "data": {
      "text/plain": [
       "(10, 10, 2)"
      ]
     },
     "execution_count": 33,
     "metadata": {},
     "output_type": "execute_result"
    }
   ],
   "source": [
    "punts_reshaped = punts.reshape(10, 1, 2)\n",
    "punts_reshaped_2 = punts.reshape(1, 10, 2) \n",
    "diferencies = punts_reshaped - punts_reshaped_2\n",
    "diferencies.shape"
   ]
  },
  {
   "cell_type": "code",
   "execution_count": 34,
   "metadata": {},
   "outputs": [
    {
     "data": {
      "text/plain": [
       "array([[[ 0,  0],\n",
       "        [ 1,  1],\n",
       "        [ 0, 36],\n",
       "        [16,  9],\n",
       "        [ 1,  1],\n",
       "        [ 9, 16],\n",
       "        [ 1,  1],\n",
       "        [ 1,  1],\n",
       "        [25, 16],\n",
       "        [ 1,  4]],\n",
       "\n",
       "       [[ 1,  1],\n",
       "        [ 0,  0],\n",
       "        [ 1, 25],\n",
       "        [25,  4],\n",
       "        [ 0,  0],\n",
       "        [16,  9],\n",
       "        [ 0,  4],\n",
       "        [ 4,  0],\n",
       "        [36,  9],\n",
       "        [ 4,  9]],\n",
       "\n",
       "       [[ 0, 36],\n",
       "        [ 1, 25],\n",
       "        [ 0,  0],\n",
       "        [16,  9],\n",
       "        [ 1, 25],\n",
       "        [ 9,  4],\n",
       "        [ 1, 49],\n",
       "        [ 1, 25],\n",
       "        [25,  4],\n",
       "        [ 1, 64]],\n",
       "\n",
       "       [[16,  9],\n",
       "        [25,  4],\n",
       "        [16,  9],\n",
       "        [ 0,  0],\n",
       "        [25,  4],\n",
       "        [ 1,  1],\n",
       "        [25, 16],\n",
       "        [ 9,  4],\n",
       "        [ 1,  1],\n",
       "        [ 9, 25]],\n",
       "\n",
       "       [[ 1,  1],\n",
       "        [ 0,  0],\n",
       "        [ 1, 25],\n",
       "        [25,  4],\n",
       "        [ 0,  0],\n",
       "        [16,  9],\n",
       "        [ 0,  4],\n",
       "        [ 4,  0],\n",
       "        [36,  9],\n",
       "        [ 4,  9]],\n",
       "\n",
       "       [[ 9, 16],\n",
       "        [16,  9],\n",
       "        [ 9,  4],\n",
       "        [ 1,  1],\n",
       "        [16,  9],\n",
       "        [ 0,  0],\n",
       "        [16, 25],\n",
       "        [ 4,  9],\n",
       "        [ 4,  0],\n",
       "        [ 4, 36]],\n",
       "\n",
       "       [[ 1,  1],\n",
       "        [ 0,  4],\n",
       "        [ 1, 49],\n",
       "        [25, 16],\n",
       "        [ 0,  4],\n",
       "        [16, 25],\n",
       "        [ 0,  0],\n",
       "        [ 4,  4],\n",
       "        [36, 25],\n",
       "        [ 4,  1]],\n",
       "\n",
       "       [[ 1,  1],\n",
       "        [ 4,  0],\n",
       "        [ 1, 25],\n",
       "        [ 9,  4],\n",
       "        [ 4,  0],\n",
       "        [ 4,  9],\n",
       "        [ 4,  4],\n",
       "        [ 0,  0],\n",
       "        [16,  9],\n",
       "        [ 0,  9]],\n",
       "\n",
       "       [[25, 16],\n",
       "        [36,  9],\n",
       "        [25,  4],\n",
       "        [ 1,  1],\n",
       "        [36,  9],\n",
       "        [ 4,  0],\n",
       "        [36, 25],\n",
       "        [16,  9],\n",
       "        [ 0,  0],\n",
       "        [16, 36]],\n",
       "\n",
       "       [[ 1,  4],\n",
       "        [ 4,  9],\n",
       "        [ 1, 64],\n",
       "        [ 9, 25],\n",
       "        [ 4,  9],\n",
       "        [ 4, 36],\n",
       "        [ 4,  1],\n",
       "        [ 0,  9],\n",
       "        [16, 36],\n",
       "        [ 0,  0]]])"
      ]
     },
     "execution_count": 34,
     "metadata": {},
     "output_type": "execute_result"
    }
   ],
   "source": [
    "diferencies_e2 = diferencies ** 2\n",
    "diferencies_e2"
   ]
  },
  {
   "cell_type": "code",
   "execution_count": 35,
   "metadata": {},
   "outputs": [
    {
     "data": {
      "text/plain": [
       "array([[ 0,  2, 36, 25,  2, 25,  2,  2, 41,  5],\n",
       "       [ 2,  0, 26, 29,  0, 25,  4,  4, 45, 13],\n",
       "       [36, 26,  0, 25, 26, 13, 50, 26, 29, 65],\n",
       "       [25, 29, 25,  0, 29,  2, 41, 13,  2, 34],\n",
       "       [ 2,  0, 26, 29,  0, 25,  4,  4, 45, 13],\n",
       "       [25, 25, 13,  2, 25,  0, 41, 13,  4, 40],\n",
       "       [ 2,  4, 50, 41,  4, 41,  0,  8, 61,  5],\n",
       "       [ 2,  4, 26, 13,  4, 13,  8,  0, 25,  9],\n",
       "       [41, 45, 29,  2, 45,  4, 61, 25,  0, 52],\n",
       "       [ 5, 13, 65, 34, 13, 40,  5,  9, 52,  0]])"
      ]
     },
     "execution_count": 35,
     "metadata": {},
     "output_type": "execute_result"
    }
   ],
   "source": [
    "resultados = np.sum(diferencies_e2, axis=2)\n",
    "resultados"
   ]
  },
  {
   "cell_type": "code",
   "execution_count": 36,
   "metadata": {},
   "outputs": [],
   "source": [
    "arrel = np.sqrt(resultados)"
   ]
  },
  {
   "cell_type": "code",
   "execution_count": 37,
   "metadata": {},
   "outputs": [
    {
     "data": {
      "text/plain": [
       "array([0, 0, 0, 0, 0, 0, 0, 0, 0, 0])"
      ]
     },
     "execution_count": 37,
     "metadata": {},
     "output_type": "execute_result"
    }
   ],
   "source": [
    "np.diagonal(resultados)"
   ]
  },
  {
   "cell_type": "markdown",
   "metadata": {},
   "source": [
    "**Si extraiem la diagonal de l'anterior matriu (np.diagonal()), quin resultat obtenim? Perquè? Justifica la resposta.**  \n",
    "Antec que es perque tenim una diagonal de 0 "
   ]
  },
  {
   "cell_type": "code",
   "execution_count": 38,
   "metadata": {},
   "outputs": [
    {
     "name": "stdout",
     "output_type": "stream",
     "text": [
      "[[0.         1.41421356 6.         5.         1.41421356 5.\n",
      "  1.41421356 1.41421356 6.40312424 2.23606798]\n",
      " [1.41421356 0.         5.09901951 5.38516481 0.         5.\n",
      "  2.         2.         6.70820393 3.60555128]\n",
      " [6.         5.09901951 0.         5.         5.09901951 3.60555128\n",
      "  7.07106781 5.09901951 5.38516481 8.06225775]\n",
      " [5.         5.38516481 5.         0.         5.38516481 1.41421356\n",
      "  6.40312424 3.60555128 1.41421356 5.83095189]\n",
      " [1.41421356 0.         5.09901951 5.38516481 0.         5.\n",
      "  2.         2.         6.70820393 3.60555128]\n",
      " [5.         5.         3.60555128 1.41421356 5.         0.\n",
      "  6.40312424 3.60555128 2.         6.32455532]\n",
      " [1.41421356 2.         7.07106781 6.40312424 2.         6.40312424\n",
      "  0.         2.82842712 7.81024968 2.23606798]\n",
      " [1.41421356 2.         5.09901951 3.60555128 2.         3.60555128\n",
      "  2.82842712 0.         5.         3.        ]\n",
      " [6.40312424 6.70820393 5.38516481 1.41421356 6.70820393 2.\n",
      "  7.81024968 5.         0.         7.21110255]\n",
      " [2.23606798 3.60555128 8.06225775 5.83095189 3.60555128 6.32455532\n",
      "  2.23606798 3.         7.21110255 0.        ]]\n"
     ]
    }
   ],
   "source": [
    "print(arrel)"
   ]
  },
  {
   "cell_type": "code",
   "execution_count": 39,
   "metadata": {},
   "outputs": [
    {
     "name": "stdout",
     "output_type": "stream",
     "text": [
      "[[0 1 4 6 7 9 3 5 2 8]\n",
      " [1 4 0 6 7 9 5 2 3 8]\n",
      " [2 5 3 1 4 7 8 0 6 9]\n",
      " [3 5 8 7 0 2 1 4 9 6]\n",
      " [1 4 0 6 7 9 5 2 3 8]\n",
      " [5 3 8 2 7 0 1 4 9 6]\n",
      " [6 0 1 4 9 7 3 5 2 8]\n",
      " [7 0 1 4 6 9 3 5 8 2]\n",
      " [8 3 5 7 2 0 1 4 9 6]\n",
      " [9 0 6 7 1 4 3 5 8 2]]\n"
     ]
    }
   ],
   "source": [
    "print(np.argsort(arrel, kind= 'stable'))"
   ]
  },
  {
   "cell_type": "code",
   "execution_count": 40,
   "metadata": {},
   "outputs": [
    {
     "name": "stdout",
     "output_type": "stream",
     "text": [
      "[[0 1 4 6 7 9 3 5 2 8]\n",
      " [1 4 0 6 7 9 5 2 3 8]\n",
      " [2 5 3 1 4 7 8 0 6 9]\n",
      " [3 5 8 7 0 2 1 4 9 6]\n",
      " [1 4 0 6 7 9 5 2 3 8]\n",
      " [5 3 8 2 7 0 1 4 9 6]\n",
      " [6 0 1 4 9 7 3 5 2 8]\n",
      " [7 0 1 4 6 9 3 5 8 2]\n",
      " [8 3 5 7 2 0 1 4 9 6]\n",
      " [9 0 6 7 1 4 3 5 8 2]]\n"
     ]
    }
   ],
   "source": [
    "ordenat_punts = np.argsort(resultados,kind= 'stable')\n",
    "print(ordenat_punts)"
   ]
  },
  {
   "cell_type": "markdown",
   "metadata": {},
   "source": [
    "**Compara els dos arrays. Són iguals? Perquè? Justifica la resposta.**\n",
    "Dona el mateix resultat ja que les operacions que hem realitzat es fer per a tots els numeros i al final l'ordre es el mateix.\n",
    "\n",
    "**Perquè la primera columna de les dos matrius anteriors (distància i distància al quadrat) conté els números 0 a 9 ordenats (excepte el 4)? Raona la resposta.**\n",
    "Per el que veig en el punt 4 també es troba el punt 1 es a dir tenen els mateixos numeros per tant el resultat de la distancia entre estos dos numeros es igual a 0 i per aquesta raó al ordenar primerament es situ el primer 0 que es el del punt 1."
   ]
  },
  {
   "cell_type": "code",
   "execution_count": 41,
   "metadata": {},
   "outputs": [
    {
     "name": "stdout",
     "output_type": "stream",
     "text": [
      "[[0 1 4]\n",
      " [1 4 0]\n",
      " [2 5 3]\n",
      " [3 5 8]\n",
      " [1 4 0]\n",
      " [5 3 8]\n",
      " [6 0 1]\n",
      " [7 0 1]\n",
      " [8 3 5]\n",
      " [9 0 6]]\n"
     ]
    }
   ],
   "source": [
    "dos_mes_proxims = ordenat_punts[:,:3]\n",
    "print(dos_mes_proxims)"
   ]
  },
  {
   "cell_type": "code",
   "execution_count": 42,
   "metadata": {},
   "outputs": [
    {
     "data": {
      "image/png": "[encoded data removed]",
      "text/plain": [
       "<Figure size 640x480 with 1 Axes>"
      ]
     },
     "metadata": {},
     "output_type": "display_data"
    }
   ],
   "source": [
    "plt.scatter(punts[:, 0], punts[:, 1], s=100)\n",
    "\n",
    "# draw lines from each point to its two nearest neighbors\n",
    "K = 2\n",
    "\n",
    "for i in range(punts.shape[0]):\n",
    "    plt.text(punts[i, 0], punts[i, 1], str(i))\n",
    "    for j in dos_mes_proxims[i, :K+1]:\n",
    "        # plot a line from X[i] to X[j]\n",
    "        # use some zip magic to make it happen:\n",
    "        plt.plot(*zip(punts[j], punts[i]), color='black')"
   ]
  },
  {
   "cell_type": "markdown",
   "metadata": {},
   "source": [
    "**Interpreta els resultats anteriors. Imagina que a les dades anteriors, formen part d'un estudi d'una enfermetat. Els punts 2, 3, 5 i 8 son les dades de pacient amb l'enfermetat mentre que la resta, son les dades de pacients amb l'enfermetat.**\n",
    "**Les dades d'un nou pacient son [8, 3], creus que pateix l'enfermetat? I un pacient amb dades [2, 6]? Justifica les respostes.**\n",
    "**Què passa amb un pacient amb dades [2,2]? Justifica la resposta**  \n",
    "A = Enfermetat dels punts 2, 3, 5 i 8\n",
    "B = Enfermetat de la resta de punts\n",
    "El pacient amb el punt [8,3] no te lenfermetat pero es propenso a que la puga tindre (B), pero el pacient amb [2,6] segurament la tinga (A) i el de [2,2] segurament no tinga ninguna de les dos enfermetats ja qu eesta prou llunya de els dos punts\n"
   ]
  }
 ],
 "metadata": {
  "kernelspec": {
   "display_name": "pia_entorn",
   "language": "python",
   "name": "python3"
  },
  "language_info": {
   "codemirror_mode": {
    "name": "ipython",
    "version": 3
   },
   "file_extension": ".py",
   "mimetype": "text/x-python",
   "name": "python",
   "nbconvert_exporter": "python",
   "pygments_lexer": "ipython3",
   "version": "3.12.3"
  }
 },
 "nbformat": 4,
 "nbformat_minor": 2
}
